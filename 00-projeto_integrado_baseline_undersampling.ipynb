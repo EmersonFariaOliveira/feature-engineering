{
 "cells": [
  {
   "cell_type": "markdown",
   "metadata": {},
   "source": [
    "# Projeto integrado - Feature Enginearing\n",
    "\n",
    "### Integrantes\n",
    "* Emerson Faria de Oliveira\n",
    "* Caio Uno\n",
    "* Tiago Muniz de Oliveira\n",
    "* Vinicius Vendrami Scocca\n",
    "\n",
    "\n",
    "\n",
    "\n",
    "## Descrição do DataSet\n",
    "\n",
    "| Var_Id | Característica                 | Descrição                                                  | Tipo               |\n",
    "|--------|--------------------------------|------------------------------------------------------------|--------------------|\n",
    "| 1      | ID_CLIENTE                     | Número sequencial para o requerente (a ser usado como chave)| ID                 |\n",
    "| 2      | TIPO_FUNCIONARIO               | Não informado                                              | Categorica (Nominal)|\n",
    "| 3      | DIA_PAGAMENTO                  | Dia do mês para o pagamento da fatura, escolhido pelo requerente | Numerica (Discreta)|\n",
    "| 4      | TIPO_ENVIO_APLICACAO           | Indica se a aplicação foi submetida via internet ou pessoalmente/enviada pelo correio | Categorica (Nominal)|\n",
    "| 5      | QUANT_CARTOES_ADICIONAIS       | Quantidade de cartões adicionais solicitados no mesmo formulário de aplicação | Numerica (Discreta)|\n",
    "| 6      | TIPO_ENDERECO_POSTAL           | Indica se o endereço para envio é o endereço residencial ou outro. Codificação não informada. | Categorica (Nominal)|\n",
    "| 7      | SEXO                             | Categorização não informada                                       | Categorica (Nominal)        |\n",
    "| 8      | ESTADO_CIVIL                     | Categorização não informada                                       | Categorica (Nominal)        |\n",
    "| 9      | QUANT_DEPENDENTES                |                                                                   | Numerica (Discreta)         |\n",
    "| 10     | NIVEL_EDUCACIONAL                | Nível educacional em ordem gradual não informado                  | Categorica (Ordinal)        |\n",
    "| 11     | ESTADO_NASCIMENTO                |                                                                   | Categorica (Nominal)        |\n",
    "| 12     | CIDADE_NASCIMENTO                |                                                                   | Categorica (Nominal)        |\n",
    "| 13     | NACIONALIDADE                    | País de nascimento. Codificação não informada, mas é provável que o Brasil seja igual a 1. | Categorica (Nominal)        |\n",
    "| 14     | ESTADO_RESIDENCIAL               | Estado de residência                                              | Categorica (Nominal)        |\n",
    "| 15     | CIDADE_RESIDENCIAL               | Cidade de residência                                              | Categorica (Nominal)        |\n",
    "| 16     | BAIRRO_RESIDENCIAL               | Bairro de residência                                              | Categorica (Nominal)        |\n",
    "| 17     | FLAG_TELEFONE_RESIDENCIAL        | Indica se o requerente possui um telefone residencial             | Categorica (Nominal) BINARIA|\n",
    "| 18     | CODIGO_AREA_TELEFONE_RESIDENCIAL | Pseudo-código de três dígitos                                     | Categorica (Nominal)        |\n",
    "| 19     | TIPO_RESIDENCIA                  | Codificação não informada. Em geral, existem tipos como: própria, hipotecada, alugada, dos pais, familiar, etc. | Categorica (Nominal)        |\n",
    "| 20     | MESES_RESIDENCIA                 | Tempo na residência atual em meses                                | Numerica (Discreta)         |\n",
    "| 21     | FLAG_TELEFONE_MOVEL              | Indica se o requerente possui um telefone móvel                   | Categorica (Nominal) BINARIA|\n",
    "| 22     | FLAG_EMAIL                       | Indica se o requerente possui um endereço de e-mail               | Categorica (Nominal) BINARIA|\n",
    "| 23     | RENDA_PESSOAL_MENSAL             | Renda mensal regular pessoal do requerente em moeda brasileira (R$) | Numerica (Continua)         |\n",
    "| 24     | OUTRAS_RENDAS                    | Outras rendas mensais médias do requerente em moeda brasileira (R$) | Numerica (Continua)         |\n",
    "| 25     | FLAG_VISA                        | Indicador se o requerente é titular de um cartão de crédito VISA  | Categorica (Nominal) BINARIA|\n",
    "| 26     | FLAG_MASTERCARD                  | Indicador se o requerente é titular de um cartão de crédito MASTERCARD | Categorica (Nominal) BINARIA|\n",
    "| 27     | FLAG_DINERS                      | Indicador se o requerente é titular de um cartão de crédito DINERS | Categorica (Nominal) BINARIA|\n",
    "| 28     | FLAG_AMERICAN_EXPRESS            | Indicador se o requerente é titular de um cartão de crédito AMERICAN EXPRESS | Categorica (Nominal) BINARIA|\n",
    "| 29     | FLAG_OUTROS_CARTOES              | A ser cotulado como \"FLAG\", esse campo apresenta três valores não explicados | Categorica (Nominal)        |\n",
    "| 30     | QUANT_CONTAS_BANCARIAS           |                                                                   | Numerica (Discreta)         |\n",
    "| 31     | QUANT_CONTAS_BANCARIAS_ESPECIAIS |                                                                   | Numerica (Discreta)         |\n",
    "| 32     | VALOR_PATRIMONIO_PESSOAL         | Valor total dos bens pessoais, como casas, carros, etc., em moeda brasileira (R$) | Numerica (Continua)         |\n",
    "| 33     | QUANT_CARROS                     | Quantidade de carros que o requerente possui                      | Numerica (Discreta)        \n",
    "| 34     | EMPRESA                           | Se o requerente forneceu o nome da empresa onde ele/ela trabalha formalmente | Categorica (Nominal) BINARIA|\n",
    "| 35     | ESTADO_PROFISSIONAL               | Estado onde o requerente trabalha                                 | Categorica (Nominal)        |\n",
    "| 36     | CIDADE_PROFISSIONAL               | Cidade onde o requerente trabalha                                 | Categorica (Nominal)        |\n",
    "| 37     | BAIRRO_PROFISSIONAL               | Bairro onde o requerente trabalha                                 | Categorica (Nominal)        |\n",
    "| 38     | FLAG_TELEFONE_PROFISSIONAL        | Indica se o número de telefone profissional foi fornecido         | Categorica (Nominal) BINARIA|\n",
    "| 39     | CODIGO_AREA_TELEFONE_PROFISSIONAL | Pseudo-código de três dígitos                                     | Categorica (Nominal)        |\n",
    "| 40     | MESES_NO_TRABALHO                 | Tempo no emprego atual em meses                                   | Numerica (Discreta)         |\n",
    "| 41     | CODIGO_PROFISSAO                  | Código profissional do requerente. Codificação não informada      | Categorica (Nominal)        |\n",
    "| 42     | TIPO_OCUPACAO                     |                                                                   | Categorica (Nominal)        |\n",
    "| 43     | CODIGO_PROFISSAO_CONJUGE          | Código profissional do cônjuge. Codificação não informada         | Categorica (Nominal)        |\n",
    "| 44     | NIVEL_EDUCACIONAL_CONJUGE         | Nível educacional do cônjuge em ordem gradual não informado       | Categorica (Ordinal)        |\n",
    "| 45     | FLAG_DOCUMENTO_RESIDENCIAL        | Indicador de confirmação documental de endereço residencial       | Categorica (Nominal) BINARIA|\n",
    "| 46     | FLAG_RG                           | Indicador de confirmação documental do número do cartão de cidadão | Categorica (Nominal) BINARIA|\n",
    "| 47     | FLAG_CPF                          | Indicador de confirmação documental do status de contribuinte     | Categorica (Nominal) BINARIA|\n",
    "| 48     | FLAG_COMPROVANTE_RENDA            | Indicador de confirmação documental da renda                      | Categorica (Nominal) BINARIA|\n",
    "| 49     | PRODUTO                           | Tipo de produto de crédito aplicado. Codificação não informada    | Categorica (Nominal)        |\n",
    "| 50     | FLAG_REGISTRO_ACSP                | Indica se o requerente possui alguma inadimplência de crédito anterior | Categorica (Nominal) BINARIA|\n",
    "| 51     | IDADE                             | Idade do requerente                                               | Numerica (Discreta)         |\n",
    "| 52     | CEP_RESIDENCIAL_3                 | Três dígitos mais significativos do CEP residencial               | Categorica (Nominal)        |\n",
    "| 53     | CEP_PROFISSIONAL_3                | Três dígitos mais significativos do CEP do emprego atual          | Categorica (Nominal)        |\n",
    "| 54     | ROTULO_ALVO_MAU=1                 | Se BAD=1, então MAU=0 – o requerente é um bom pagador             | Target                      |"
   ]
  },
  {
   "cell_type": "markdown",
   "metadata": {},
   "source": [
    "### Carregandos os dados"
   ]
  },
  {
   "cell_type": "code",
   "execution_count": 128,
   "metadata": {},
   "outputs": [],
   "source": [
    "import pandas as pd\n",
    "import numpy as np"
   ]
  },
  {
   "cell_type": "code",
   "execution_count": 129,
   "metadata": {},
   "outputs": [],
   "source": [
    "column_names = [\n",
    "    \"ID_CLIENTE\", \"TIPO_FUNCIONARIO\", \"DIA_PAGAMENTO\", \"TIPO_ENVIO_APLICACAO\",\n",
    "    \"QUANT_CARTOES_ADICIONAIS\", \"TIPO_ENDERECO_POSTAL\", \"SEXO\", \"ESTADO_CIVIL\",\n",
    "    \"QUANT_DEPENDENTES\", \"NIVEL_EDUCACIONAL\", \"ESTADO_NASCIMENTO\", \"CIDADE_NASCIMENTO\",\n",
    "    \"NACIONALIDADE\", \"ESTADO_RESIDENCIAL\", \"CIDADE_RESIDENCIAL\", \"BAIRRO_RESIDENCIAL\",\n",
    "    \"FLAG_TELEFONE_RESIDENCIAL\", \"CODIGO_AREA_TELEFONE_RESIDENCIAL\", \"TIPO_RESIDENCIA\",\n",
    "    \"MESES_RESIDENCIA\", \"FLAG_TELEFONE_MOVEL\", \"FLAG_EMAIL\", \"RENDA_PESSOAL_MENSAL\",\n",
    "    \"OUTRAS_RENDAS\", \"FLAG_VISA\", \"FLAG_MASTERCARD\", \"FLAG_DINERS\",\n",
    "    \"FLAG_AMERICAN_EXPRESS\", \"FLAG_OUTROS_CARTOES\", \"QUANT_CONTAS_BANCARIAS\",\n",
    "    \"QUANT_CONTAS_BANCARIAS_ESPECIAIS\", \"VALOR_PATRIMONIO_PESSOAL\", \"QUANT_CARROS\",\n",
    "    \"EMPRESA\", \"ESTADO_PROFISSIONAL\", \"CIDADE_PROFISSIONAL\", \"BAIRRO_PROFISSIONAL\",\n",
    "    \"FLAG_TELEFONE_PROFISSIONAL\", \"CODIGO_AREA_TELEFONE_PROFISSIONAL\", \"MESES_NO_TRABALHO\",\n",
    "    \"CODIGO_PROFISSAO\", \"TIPO_OCUPACAO\", \"CODIGO_PROFISSAO_CONJUGE\",\n",
    "    \"NIVEL_EDUCACIONAL_CONJUGE\", \"FLAG_DOCUMENTO_RESIDENCIAL\", \"FLAG_RG\",\n",
    "    \"FLAG_CPF\", \"FLAG_COMPROVANTE_RENDA\", \"PRODUTO\", \"FLAG_REGISTRO_ACSP\",\n",
    "    \"IDADE\", \"CEP_RESIDENCIAL_3\", \"CEP_PROFISSIONAL_3\", \"ROTULO_ALVO_MAU=1\"\n",
    "]"
   ]
  },
  {
   "cell_type": "code",
   "execution_count": 130,
   "metadata": {},
   "outputs": [
    {
     "data": {
      "text/html": [
       "<div>\n",
       "<style scoped>\n",
       "    .dataframe tbody tr th:only-of-type {\n",
       "        vertical-align: middle;\n",
       "    }\n",
       "\n",
       "    .dataframe tbody tr th {\n",
       "        vertical-align: top;\n",
       "    }\n",
       "\n",
       "    .dataframe thead th {\n",
       "        text-align: right;\n",
       "    }\n",
       "</style>\n",
       "<table border=\"1\" class=\"dataframe\">\n",
       "  <thead>\n",
       "    <tr style=\"text-align: right;\">\n",
       "      <th></th>\n",
       "      <th>ID_CLIENTE</th>\n",
       "      <th>TIPO_FUNCIONARIO</th>\n",
       "      <th>DIA_PAGAMENTO</th>\n",
       "      <th>TIPO_ENVIO_APLICACAO</th>\n",
       "      <th>QUANT_CARTOES_ADICIONAIS</th>\n",
       "      <th>TIPO_ENDERECO_POSTAL</th>\n",
       "      <th>SEXO</th>\n",
       "      <th>ESTADO_CIVIL</th>\n",
       "      <th>QUANT_DEPENDENTES</th>\n",
       "      <th>NIVEL_EDUCACIONAL</th>\n",
       "      <th>...</th>\n",
       "      <th>FLAG_DOCUMENTO_RESIDENCIAL</th>\n",
       "      <th>FLAG_RG</th>\n",
       "      <th>FLAG_CPF</th>\n",
       "      <th>FLAG_COMPROVANTE_RENDA</th>\n",
       "      <th>PRODUTO</th>\n",
       "      <th>FLAG_REGISTRO_ACSP</th>\n",
       "      <th>IDADE</th>\n",
       "      <th>CEP_RESIDENCIAL_3</th>\n",
       "      <th>CEP_PROFISSIONAL_3</th>\n",
       "      <th>ROTULO_ALVO_MAU=1</th>\n",
       "    </tr>\n",
       "  </thead>\n",
       "  <tbody>\n",
       "    <tr>\n",
       "      <th>0</th>\n",
       "      <td>1</td>\n",
       "      <td>C</td>\n",
       "      <td>5</td>\n",
       "      <td>Web</td>\n",
       "      <td>0</td>\n",
       "      <td>1</td>\n",
       "      <td>F</td>\n",
       "      <td>6</td>\n",
       "      <td>1</td>\n",
       "      <td>0</td>\n",
       "      <td>...</td>\n",
       "      <td>0</td>\n",
       "      <td>0</td>\n",
       "      <td>0</td>\n",
       "      <td>0</td>\n",
       "      <td>1</td>\n",
       "      <td>N</td>\n",
       "      <td>32</td>\n",
       "      <td>595</td>\n",
       "      <td>595</td>\n",
       "      <td>1</td>\n",
       "    </tr>\n",
       "    <tr>\n",
       "      <th>1</th>\n",
       "      <td>2</td>\n",
       "      <td>C</td>\n",
       "      <td>15</td>\n",
       "      <td>Carga</td>\n",
       "      <td>0</td>\n",
       "      <td>1</td>\n",
       "      <td>F</td>\n",
       "      <td>2</td>\n",
       "      <td>0</td>\n",
       "      <td>0</td>\n",
       "      <td>...</td>\n",
       "      <td>0</td>\n",
       "      <td>0</td>\n",
       "      <td>0</td>\n",
       "      <td>0</td>\n",
       "      <td>1</td>\n",
       "      <td>N</td>\n",
       "      <td>34</td>\n",
       "      <td>230</td>\n",
       "      <td>230</td>\n",
       "      <td>1</td>\n",
       "    </tr>\n",
       "    <tr>\n",
       "      <th>2</th>\n",
       "      <td>3</td>\n",
       "      <td>C</td>\n",
       "      <td>5</td>\n",
       "      <td>Web</td>\n",
       "      <td>0</td>\n",
       "      <td>1</td>\n",
       "      <td>F</td>\n",
       "      <td>2</td>\n",
       "      <td>0</td>\n",
       "      <td>0</td>\n",
       "      <td>...</td>\n",
       "      <td>0</td>\n",
       "      <td>0</td>\n",
       "      <td>0</td>\n",
       "      <td>0</td>\n",
       "      <td>1</td>\n",
       "      <td>N</td>\n",
       "      <td>27</td>\n",
       "      <td>591</td>\n",
       "      <td>591</td>\n",
       "      <td>0</td>\n",
       "    </tr>\n",
       "    <tr>\n",
       "      <th>3</th>\n",
       "      <td>4</td>\n",
       "      <td>C</td>\n",
       "      <td>20</td>\n",
       "      <td>Web</td>\n",
       "      <td>0</td>\n",
       "      <td>1</td>\n",
       "      <td>F</td>\n",
       "      <td>2</td>\n",
       "      <td>0</td>\n",
       "      <td>0</td>\n",
       "      <td>...</td>\n",
       "      <td>0</td>\n",
       "      <td>0</td>\n",
       "      <td>0</td>\n",
       "      <td>0</td>\n",
       "      <td>1</td>\n",
       "      <td>N</td>\n",
       "      <td>61</td>\n",
       "      <td>545</td>\n",
       "      <td>545</td>\n",
       "      <td>0</td>\n",
       "    </tr>\n",
       "    <tr>\n",
       "      <th>4</th>\n",
       "      <td>5</td>\n",
       "      <td>C</td>\n",
       "      <td>10</td>\n",
       "      <td>Web</td>\n",
       "      <td>0</td>\n",
       "      <td>1</td>\n",
       "      <td>M</td>\n",
       "      <td>2</td>\n",
       "      <td>0</td>\n",
       "      <td>0</td>\n",
       "      <td>...</td>\n",
       "      <td>0</td>\n",
       "      <td>0</td>\n",
       "      <td>0</td>\n",
       "      <td>0</td>\n",
       "      <td>1</td>\n",
       "      <td>N</td>\n",
       "      <td>48</td>\n",
       "      <td>235</td>\n",
       "      <td>235</td>\n",
       "      <td>1</td>\n",
       "    </tr>\n",
       "  </tbody>\n",
       "</table>\n",
       "<p>5 rows × 54 columns</p>\n",
       "</div>"
      ],
      "text/plain": [
       "   ID_CLIENTE TIPO_FUNCIONARIO  DIA_PAGAMENTO TIPO_ENVIO_APLICACAO  \\\n",
       "0           1                C              5                  Web   \n",
       "1           2                C             15                Carga   \n",
       "2           3                C              5                  Web   \n",
       "3           4                C             20                  Web   \n",
       "4           5                C             10                  Web   \n",
       "\n",
       "   QUANT_CARTOES_ADICIONAIS  TIPO_ENDERECO_POSTAL SEXO  ESTADO_CIVIL  \\\n",
       "0                         0                     1    F             6   \n",
       "1                         0                     1    F             2   \n",
       "2                         0                     1    F             2   \n",
       "3                         0                     1    F             2   \n",
       "4                         0                     1    M             2   \n",
       "\n",
       "   QUANT_DEPENDENTES  NIVEL_EDUCACIONAL  ... FLAG_DOCUMENTO_RESIDENCIAL  \\\n",
       "0                  1                  0  ...                          0   \n",
       "1                  0                  0  ...                          0   \n",
       "2                  0                  0  ...                          0   \n",
       "3                  0                  0  ...                          0   \n",
       "4                  0                  0  ...                          0   \n",
       "\n",
       "  FLAG_RG  FLAG_CPF FLAG_COMPROVANTE_RENDA PRODUTO FLAG_REGISTRO_ACSP IDADE  \\\n",
       "0       0         0                      0       1                  N    32   \n",
       "1       0         0                      0       1                  N    34   \n",
       "2       0         0                      0       1                  N    27   \n",
       "3       0         0                      0       1                  N    61   \n",
       "4       0         0                      0       1                  N    48   \n",
       "\n",
       "   CEP_RESIDENCIAL_3  CEP_PROFISSIONAL_3  ROTULO_ALVO_MAU=1  \n",
       "0                595                 595                  1  \n",
       "1                230                 230                  1  \n",
       "2                591                 591                  0  \n",
       "3                545                 545                  0  \n",
       "4                235                 235                  1  \n",
       "\n",
       "[5 rows x 54 columns]"
      ]
     },
     "execution_count": 130,
     "metadata": {},
     "output_type": "execute_result"
    }
   ],
   "source": [
    "data = pd.read_csv(\"dataset.txt\", sep='\\t', names=column_names, header=None, na_values=\" \", encoding='ISO-8859-1', low_memory=False)\n",
    "data.head()"
   ]
  },
  {
   "cell_type": "code",
   "execution_count": 131,
   "metadata": {},
   "outputs": [
    {
     "data": {
      "text/plain": [
       "Index(['ID_CLIENTE', 'TIPO_FUNCIONARIO', 'DIA_PAGAMENTO',\n",
       "       'TIPO_ENVIO_APLICACAO', 'QUANT_CARTOES_ADICIONAIS',\n",
       "       'TIPO_ENDERECO_POSTAL', 'SEXO', 'ESTADO_CIVIL', 'QUANT_DEPENDENTES',\n",
       "       'NIVEL_EDUCACIONAL', 'ESTADO_NASCIMENTO', 'CIDADE_NASCIMENTO',\n",
       "       'NACIONALIDADE', 'ESTADO_RESIDENCIAL', 'CIDADE_RESIDENCIAL',\n",
       "       'BAIRRO_RESIDENCIAL', 'FLAG_TELEFONE_RESIDENCIAL',\n",
       "       'CODIGO_AREA_TELEFONE_RESIDENCIAL', 'TIPO_RESIDENCIA',\n",
       "       'MESES_RESIDENCIA', 'FLAG_TELEFONE_MOVEL', 'FLAG_EMAIL',\n",
       "       'RENDA_PESSOAL_MENSAL', 'OUTRAS_RENDAS', 'FLAG_VISA', 'FLAG_MASTERCARD',\n",
       "       'FLAG_DINERS', 'FLAG_AMERICAN_EXPRESS', 'FLAG_OUTROS_CARTOES',\n",
       "       'QUANT_CONTAS_BANCARIAS', 'QUANT_CONTAS_BANCARIAS_ESPECIAIS',\n",
       "       'VALOR_PATRIMONIO_PESSOAL', 'QUANT_CARROS', 'EMPRESA',\n",
       "       'ESTADO_PROFISSIONAL', 'CIDADE_PROFISSIONAL', 'BAIRRO_PROFISSIONAL',\n",
       "       'FLAG_TELEFONE_PROFISSIONAL', 'CODIGO_AREA_TELEFONE_PROFISSIONAL',\n",
       "       'MESES_NO_TRABALHO', 'CODIGO_PROFISSAO', 'TIPO_OCUPACAO',\n",
       "       'CODIGO_PROFISSAO_CONJUGE', 'NIVEL_EDUCACIONAL_CONJUGE',\n",
       "       'FLAG_DOCUMENTO_RESIDENCIAL', 'FLAG_RG', 'FLAG_CPF',\n",
       "       'FLAG_COMPROVANTE_RENDA', 'PRODUTO', 'FLAG_REGISTRO_ACSP', 'IDADE',\n",
       "       'CEP_RESIDENCIAL_3', 'CEP_PROFISSIONAL_3', 'ROTULO_ALVO_MAU=1'],\n",
       "      dtype='object')"
      ]
     },
     "execution_count": 131,
     "metadata": {},
     "output_type": "execute_result"
    }
   ],
   "source": [
    "data.columns"
   ]
  },
  {
   "cell_type": "code",
   "execution_count": 132,
   "metadata": {},
   "outputs": [
    {
     "data": {
      "text/plain": [
       "ROTULO_ALVO_MAU=1\n",
       "0    36959\n",
       "1    13041\n",
       "Name: count, dtype: int64"
      ]
     },
     "execution_count": 132,
     "metadata": {},
     "output_type": "execute_result"
    }
   ],
   "source": [
    "data['ROTULO_ALVO_MAU=1'].value_counts()"
   ]
  },
  {
   "cell_type": "markdown",
   "metadata": {},
   "source": [
    "### Construindo o Baseline\n",
    "\n",
    "### Decisão 1: \n",
    "Para o baseline vamos separar apenas as variaveis numericas e tentar chegar a um valor de acuracia"
   ]
  },
  {
   "cell_type": "code",
   "execution_count": 133,
   "metadata": {},
   "outputs": [
    {
     "data": {
      "text/html": [
       "<div>\n",
       "<style scoped>\n",
       "    .dataframe tbody tr th:only-of-type {\n",
       "        vertical-align: middle;\n",
       "    }\n",
       "\n",
       "    .dataframe tbody tr th {\n",
       "        vertical-align: top;\n",
       "    }\n",
       "\n",
       "    .dataframe thead th {\n",
       "        text-align: right;\n",
       "    }\n",
       "</style>\n",
       "<table border=\"1\" class=\"dataframe\">\n",
       "  <thead>\n",
       "    <tr style=\"text-align: right;\">\n",
       "      <th></th>\n",
       "      <th>ID_CLIENTE</th>\n",
       "      <th>DIA_PAGAMENTO</th>\n",
       "      <th>QUANT_CARTOES_ADICIONAIS</th>\n",
       "      <th>QUANT_DEPENDENTES</th>\n",
       "      <th>MESES_RESIDENCIA</th>\n",
       "      <th>RENDA_PESSOAL_MENSAL</th>\n",
       "      <th>OUTRAS_RENDAS</th>\n",
       "      <th>QUANT_CONTAS_BANCARIAS</th>\n",
       "      <th>QUANT_CONTAS_BANCARIAS_ESPECIAIS</th>\n",
       "      <th>VALOR_PATRIMONIO_PESSOAL</th>\n",
       "      <th>QUANT_CARROS</th>\n",
       "      <th>MESES_NO_TRABALHO</th>\n",
       "      <th>IDADE</th>\n",
       "      <th>ROTULO_ALVO_MAU=1</th>\n",
       "    </tr>\n",
       "  </thead>\n",
       "  <tbody>\n",
       "    <tr>\n",
       "      <th>0</th>\n",
       "      <td>1</td>\n",
       "      <td>5</td>\n",
       "      <td>0</td>\n",
       "      <td>1</td>\n",
       "      <td>15.0</td>\n",
       "      <td>900.0</td>\n",
       "      <td>0.0</td>\n",
       "      <td>0</td>\n",
       "      <td>0</td>\n",
       "      <td>0.0</td>\n",
       "      <td>0</td>\n",
       "      <td>0</td>\n",
       "      <td>32</td>\n",
       "      <td>1</td>\n",
       "    </tr>\n",
       "    <tr>\n",
       "      <th>1</th>\n",
       "      <td>2</td>\n",
       "      <td>15</td>\n",
       "      <td>0</td>\n",
       "      <td>0</td>\n",
       "      <td>1.0</td>\n",
       "      <td>750.0</td>\n",
       "      <td>0.0</td>\n",
       "      <td>0</td>\n",
       "      <td>0</td>\n",
       "      <td>0.0</td>\n",
       "      <td>0</td>\n",
       "      <td>0</td>\n",
       "      <td>34</td>\n",
       "      <td>1</td>\n",
       "    </tr>\n",
       "    <tr>\n",
       "      <th>2</th>\n",
       "      <td>3</td>\n",
       "      <td>5</td>\n",
       "      <td>0</td>\n",
       "      <td>0</td>\n",
       "      <td>NaN</td>\n",
       "      <td>500.0</td>\n",
       "      <td>0.0</td>\n",
       "      <td>0</td>\n",
       "      <td>0</td>\n",
       "      <td>0.0</td>\n",
       "      <td>0</td>\n",
       "      <td>0</td>\n",
       "      <td>27</td>\n",
       "      <td>0</td>\n",
       "    </tr>\n",
       "    <tr>\n",
       "      <th>3</th>\n",
       "      <td>4</td>\n",
       "      <td>20</td>\n",
       "      <td>0</td>\n",
       "      <td>0</td>\n",
       "      <td>NaN</td>\n",
       "      <td>500.0</td>\n",
       "      <td>0.0</td>\n",
       "      <td>0</td>\n",
       "      <td>0</td>\n",
       "      <td>0.0</td>\n",
       "      <td>0</td>\n",
       "      <td>0</td>\n",
       "      <td>61</td>\n",
       "      <td>0</td>\n",
       "    </tr>\n",
       "    <tr>\n",
       "      <th>4</th>\n",
       "      <td>5</td>\n",
       "      <td>10</td>\n",
       "      <td>0</td>\n",
       "      <td>0</td>\n",
       "      <td>12.0</td>\n",
       "      <td>1200.0</td>\n",
       "      <td>0.0</td>\n",
       "      <td>0</td>\n",
       "      <td>0</td>\n",
       "      <td>0.0</td>\n",
       "      <td>0</td>\n",
       "      <td>0</td>\n",
       "      <td>48</td>\n",
       "      <td>1</td>\n",
       "    </tr>\n",
       "  </tbody>\n",
       "</table>\n",
       "</div>"
      ],
      "text/plain": [
       "   ID_CLIENTE  DIA_PAGAMENTO  QUANT_CARTOES_ADICIONAIS  QUANT_DEPENDENTES  \\\n",
       "0           1              5                         0                  1   \n",
       "1           2             15                         0                  0   \n",
       "2           3              5                         0                  0   \n",
       "3           4             20                         0                  0   \n",
       "4           5             10                         0                  0   \n",
       "\n",
       "   MESES_RESIDENCIA  RENDA_PESSOAL_MENSAL  OUTRAS_RENDAS  \\\n",
       "0              15.0                 900.0            0.0   \n",
       "1               1.0                 750.0            0.0   \n",
       "2               NaN                 500.0            0.0   \n",
       "3               NaN                 500.0            0.0   \n",
       "4              12.0                1200.0            0.0   \n",
       "\n",
       "   QUANT_CONTAS_BANCARIAS  QUANT_CONTAS_BANCARIAS_ESPECIAIS  \\\n",
       "0                       0                                 0   \n",
       "1                       0                                 0   \n",
       "2                       0                                 0   \n",
       "3                       0                                 0   \n",
       "4                       0                                 0   \n",
       "\n",
       "   VALOR_PATRIMONIO_PESSOAL  QUANT_CARROS  MESES_NO_TRABALHO  IDADE  \\\n",
       "0                       0.0             0                  0     32   \n",
       "1                       0.0             0                  0     34   \n",
       "2                       0.0             0                  0     27   \n",
       "3                       0.0             0                  0     61   \n",
       "4                       0.0             0                  0     48   \n",
       "\n",
       "   ROTULO_ALVO_MAU=1  \n",
       "0                  1  \n",
       "1                  1  \n",
       "2                  0  \n",
       "3                  0  \n",
       "4                  1  "
      ]
     },
     "execution_count": 133,
     "metadata": {},
     "output_type": "execute_result"
    }
   ],
   "source": [
    "selected_features = [\n",
    "    'ID_CLIENTE',\n",
    "    'DIA_PAGAMENTO',\n",
    "    'QUANT_CARTOES_ADICIONAIS',\n",
    "    'QUANT_DEPENDENTES',\n",
    "    'MESES_RESIDENCIA',\n",
    "    'RENDA_PESSOAL_MENSAL',\n",
    "    'OUTRAS_RENDAS',\n",
    "    'QUANT_CONTAS_BANCARIAS',\n",
    "    'QUANT_CONTAS_BANCARIAS_ESPECIAIS',\n",
    "    'VALOR_PATRIMONIO_PESSOAL',\n",
    "    'QUANT_CARROS',\n",
    "    'MESES_NO_TRABALHO',\n",
    "    'IDADE',\n",
    "    'ROTULO_ALVO_MAU=1'\n",
    "]\n",
    "\n",
    "baseline = data[selected_features]\n",
    "baseline.head()"
   ]
  },
  {
   "cell_type": "code",
   "execution_count": 134,
   "metadata": {},
   "outputs": [
    {
     "name": "stdout",
     "output_type": "stream",
     "text": [
      "<class 'pandas.core.frame.DataFrame'>\n",
      "RangeIndex: 50000 entries, 0 to 49999\n",
      "Data columns (total 14 columns):\n",
      " #   Column                            Non-Null Count  Dtype  \n",
      "---  ------                            --------------  -----  \n",
      " 0   ID_CLIENTE                        50000 non-null  int64  \n",
      " 1   DIA_PAGAMENTO                     50000 non-null  int64  \n",
      " 2   QUANT_CARTOES_ADICIONAIS          50000 non-null  int64  \n",
      " 3   QUANT_DEPENDENTES                 50000 non-null  int64  \n",
      " 4   MESES_RESIDENCIA                  46223 non-null  float64\n",
      " 5   RENDA_PESSOAL_MENSAL              50000 non-null  float64\n",
      " 6   OUTRAS_RENDAS                     50000 non-null  float64\n",
      " 7   QUANT_CONTAS_BANCARIAS            50000 non-null  int64  \n",
      " 8   QUANT_CONTAS_BANCARIAS_ESPECIAIS  50000 non-null  int64  \n",
      " 9   VALOR_PATRIMONIO_PESSOAL          50000 non-null  float64\n",
      " 10  QUANT_CARROS                      50000 non-null  int64  \n",
      " 11  MESES_NO_TRABALHO                 50000 non-null  int64  \n",
      " 12  IDADE                             50000 non-null  int64  \n",
      " 13  ROTULO_ALVO_MAU=1                 50000 non-null  int64  \n",
      "dtypes: float64(4), int64(10)\n",
      "memory usage: 5.3 MB\n"
     ]
    }
   ],
   "source": [
    "baseline.info()"
   ]
  },
  {
   "cell_type": "markdown",
   "metadata": {},
   "source": [
    "### Decisão 2: \n",
    "Para o baseline vamos filtrar apenas as variaveis com dados completos, sem missing values."
   ]
  },
  {
   "cell_type": "code",
   "execution_count": 135,
   "metadata": {},
   "outputs": [],
   "source": [
    "baseline = baseline.drop(columns=['MESES_RESIDENCIA'],axis=1)"
   ]
  },
  {
   "cell_type": "markdown",
   "metadata": {},
   "source": [
    "## Treinamento do Baseline"
   ]
  },
  {
   "cell_type": "code",
   "execution_count": 136,
   "metadata": {},
   "outputs": [],
   "source": [
    "from sklearn.model_selection import train_test_split\n",
    "from sklearn.neighbors import KNeighborsClassifier"
   ]
  },
  {
   "cell_type": "markdown",
   "metadata": {},
   "source": [
    "Separação das variaveis preditoras e a target"
   ]
  },
  {
   "cell_type": "code",
   "execution_count": 137,
   "metadata": {},
   "outputs": [],
   "source": [
    "target = baseline['ROTULO_ALVO_MAU=1']\n",
    "baseline = baseline.drop(columns=[\"ID_CLIENTE\", \"ROTULO_ALVO_MAU=1\"], axis=1)\n",
    "\n",
    "X = baseline.values\n",
    "y = target.values"
   ]
  },
  {
   "cell_type": "markdown",
   "metadata": {},
   "source": [
    "### Split do dataset:\n",
    "\n",
    "* treinamento (70%)\n",
    "* teste (30%)"
   ]
  },
  {
   "cell_type": "code",
   "execution_count": 138,
   "metadata": {},
   "outputs": [],
   "source": [
    "X_train, X_test, y_train, y_test = train_test_split(X, y, test_size=0.3, random_state=25)"
   ]
  },
  {
   "cell_type": "markdown",
   "metadata": {},
   "source": [
    "## Undersampling das asmostras da classe majoritaria"
   ]
  },
  {
   "cell_type": "code",
   "execution_count": 139,
   "metadata": {},
   "outputs": [],
   "source": [
    "# Contagem das classes antes da subamostragem\n",
    "class_counts_before = np.bincount(y_train)\n",
    "\n",
    "# Agora vamos realizar a subamostragem da classe majoritária apenas no conjunto de treino\n",
    "# Primeiro, criamos um DataFrame para facilitar a manipulação\n",
    "train_data = pd.DataFrame(X_train)\n",
    "train_data['target'] = y_train"
   ]
  },
  {
   "cell_type": "code",
   "execution_count": 140,
   "metadata": {},
   "outputs": [
    {
     "data": {
      "text/plain": [
       "(array([25880,  9120], dtype=int64), array([9120, 9120], dtype=int64))"
      ]
     },
     "execution_count": 140,
     "metadata": {},
     "output_type": "execute_result"
    }
   ],
   "source": [
    "# Separação das classes\n",
    "class_0 = train_data[train_data['target'] == 0]\n",
    "class_1 = train_data[train_data['target'] == 1]\n",
    "\n",
    "# Subamostragem da classe majoritária (classe 0)\n",
    "class_0_subsampled = class_0.sample(len(class_1), random_state=25)\n",
    "\n",
    "# Concatenação das classes subamostradas para formar um novo conjunto de treino balanceado\n",
    "train_data_balanced = pd.concat([class_0_subsampled, class_1], axis=0)\n",
    "\n",
    "# Embaralhamento dos dados para garantir que a ordem não influencie no treinamento\n",
    "train_data_balanced = train_data_balanced.sample(frac=1, random_state=25).reset_index(drop=True)\n",
    "\n",
    "# Separação das características e do alvo no novo dataset balanceado\n",
    "X_train_balanced = train_data_balanced.drop('target', axis=1).values\n",
    "y_train_balanced = train_data_balanced['target'].values\n",
    "\n",
    "# Contagem das classes depois da subamostragem\n",
    "class_counts_after = np.bincount(y_train_balanced)\n",
    "\n",
    "(class_counts_before, class_counts_after)"
   ]
  },
  {
   "cell_type": "markdown",
   "metadata": {},
   "source": [
    "### Treinamento do baseline"
   ]
  },
  {
   "cell_type": "code",
   "execution_count": 141,
   "metadata": {},
   "outputs": [
    {
     "data": {
      "text/html": [
       "<style>#sk-container-id-7 {color: black;}#sk-container-id-7 pre{padding: 0;}#sk-container-id-7 div.sk-toggleable {background-color: white;}#sk-container-id-7 label.sk-toggleable__label {cursor: pointer;display: block;width: 100%;margin-bottom: 0;padding: 0.3em;box-sizing: border-box;text-align: center;}#sk-container-id-7 label.sk-toggleable__label-arrow:before {content: \"▸\";float: left;margin-right: 0.25em;color: #696969;}#sk-container-id-7 label.sk-toggleable__label-arrow:hover:before {color: black;}#sk-container-id-7 div.sk-estimator:hover label.sk-toggleable__label-arrow:before {color: black;}#sk-container-id-7 div.sk-toggleable__content {max-height: 0;max-width: 0;overflow: hidden;text-align: left;background-color: #f0f8ff;}#sk-container-id-7 div.sk-toggleable__content pre {margin: 0.2em;color: black;border-radius: 0.25em;background-color: #f0f8ff;}#sk-container-id-7 input.sk-toggleable__control:checked~div.sk-toggleable__content {max-height: 200px;max-width: 100%;overflow: auto;}#sk-container-id-7 input.sk-toggleable__control:checked~label.sk-toggleable__label-arrow:before {content: \"▾\";}#sk-container-id-7 div.sk-estimator input.sk-toggleable__control:checked~label.sk-toggleable__label {background-color: #d4ebff;}#sk-container-id-7 div.sk-label input.sk-toggleable__control:checked~label.sk-toggleable__label {background-color: #d4ebff;}#sk-container-id-7 input.sk-hidden--visually {border: 0;clip: rect(1px 1px 1px 1px);clip: rect(1px, 1px, 1px, 1px);height: 1px;margin: -1px;overflow: hidden;padding: 0;position: absolute;width: 1px;}#sk-container-id-7 div.sk-estimator {font-family: monospace;background-color: #f0f8ff;border: 1px dotted black;border-radius: 0.25em;box-sizing: border-box;margin-bottom: 0.5em;}#sk-container-id-7 div.sk-estimator:hover {background-color: #d4ebff;}#sk-container-id-7 div.sk-parallel-item::after {content: \"\";width: 100%;border-bottom: 1px solid gray;flex-grow: 1;}#sk-container-id-7 div.sk-label:hover label.sk-toggleable__label {background-color: #d4ebff;}#sk-container-id-7 div.sk-serial::before {content: \"\";position: absolute;border-left: 1px solid gray;box-sizing: border-box;top: 0;bottom: 0;left: 50%;z-index: 0;}#sk-container-id-7 div.sk-serial {display: flex;flex-direction: column;align-items: center;background-color: white;padding-right: 0.2em;padding-left: 0.2em;position: relative;}#sk-container-id-7 div.sk-item {position: relative;z-index: 1;}#sk-container-id-7 div.sk-parallel {display: flex;align-items: stretch;justify-content: center;background-color: white;position: relative;}#sk-container-id-7 div.sk-item::before, #sk-container-id-7 div.sk-parallel-item::before {content: \"\";position: absolute;border-left: 1px solid gray;box-sizing: border-box;top: 0;bottom: 0;left: 50%;z-index: -1;}#sk-container-id-7 div.sk-parallel-item {display: flex;flex-direction: column;z-index: 1;position: relative;background-color: white;}#sk-container-id-7 div.sk-parallel-item:first-child::after {align-self: flex-end;width: 50%;}#sk-container-id-7 div.sk-parallel-item:last-child::after {align-self: flex-start;width: 50%;}#sk-container-id-7 div.sk-parallel-item:only-child::after {width: 0;}#sk-container-id-7 div.sk-dashed-wrapped {border: 1px dashed gray;margin: 0 0.4em 0.5em 0.4em;box-sizing: border-box;padding-bottom: 0.4em;background-color: white;}#sk-container-id-7 div.sk-label label {font-family: monospace;font-weight: bold;display: inline-block;line-height: 1.2em;}#sk-container-id-7 div.sk-label-container {text-align: center;}#sk-container-id-7 div.sk-container {/* jupyter's `normalize.less` sets `[hidden] { display: none; }` but bootstrap.min.css set `[hidden] { display: none !important; }` so we also need the `!important` here to be able to override the default hidden behavior on the sphinx rendered scikit-learn.org. See: https://github.com/scikit-learn/scikit-learn/issues/21755 */display: inline-block !important;position: relative;}#sk-container-id-7 div.sk-text-repr-fallback {display: none;}</style><div id=\"sk-container-id-7\" class=\"sk-top-container\"><div class=\"sk-text-repr-fallback\"><pre>KNeighborsClassifier(n_neighbors=22)</pre><b>In a Jupyter environment, please rerun this cell to show the HTML representation or trust the notebook. <br />On GitHub, the HTML representation is unable to render, please try loading this page with nbviewer.org.</b></div><div class=\"sk-container\" hidden><div class=\"sk-item\"><div class=\"sk-estimator sk-toggleable\"><input class=\"sk-toggleable__control sk-hidden--visually\" id=\"sk-estimator-id-7\" type=\"checkbox\" checked><label for=\"sk-estimator-id-7\" class=\"sk-toggleable__label sk-toggleable__label-arrow\">KNeighborsClassifier</label><div class=\"sk-toggleable__content\"><pre>KNeighborsClassifier(n_neighbors=22)</pre></div></div></div></div></div>"
      ],
      "text/plain": [
       "KNeighborsClassifier(n_neighbors=22)"
      ]
     },
     "execution_count": 141,
     "metadata": {},
     "output_type": "execute_result"
    }
   ],
   "source": [
    "# Classif_KNN = KNeighborsClassifier(n_neighbors=22, weights='distance')\n",
    "Classif_KNN = KNeighborsClassifier(n_neighbors=22)\n",
    "Classif_KNN.fit(X_train_balanced, y_train_balanced)"
   ]
  },
  {
   "cell_type": "markdown",
   "metadata": {},
   "source": [
    "### Avaliando o modelo\n",
    "Analisando o rotulo real com o rotulo predito"
   ]
  },
  {
   "cell_type": "code",
   "execution_count": 142,
   "metadata": {},
   "outputs": [],
   "source": [
    "from sklearn.metrics import classification_report, ConfusionMatrixDisplay, confusion_matrix\n",
    "from sklearn.metrics import accuracy_score, recall_score, precision_score, f1_score"
   ]
  },
  {
   "cell_type": "code",
   "execution_count": 143,
   "metadata": {},
   "outputs": [
    {
     "name": "stdout",
     "output_type": "stream",
     "text": [
      "              precision    recall  f1-score   support\n",
      "\n",
      "           0       0.76      0.60      0.67     11079\n",
      "           1       0.29      0.46      0.35      3921\n",
      "\n",
      "    accuracy                           0.56     15000\n",
      "   macro avg       0.52      0.53      0.51     15000\n",
      "weighted avg       0.63      0.56      0.59     15000\n",
      "\n",
      "ACC: 0.56 \n",
      "Recall: 0.46 \n",
      "Precision: 0.29 \n",
      "F1: 0.35 \n"
     ]
    }
   ],
   "source": [
    "y_pred = Classif_KNN.predict(X_test)\n",
    "\n",
    "print(classification_report(y_test, y_pred))\n",
    "print(\"ACC: %.2f \" %(accuracy_score(y_test, y_pred)))\n",
    "print(\"Recall: %.2f \" %(recall_score(y_test, y_pred)))\n",
    "print(\"Precision: %.2f \" %(precision_score(y_test, y_pred)))\n",
    "print(\"F1: %.2f \" %(f1_score(y_test, y_pred)))"
   ]
  },
  {
   "cell_type": "code",
   "execution_count": 144,
   "metadata": {},
   "outputs": [
    {
     "data": {
      "text/plain": [
       "<sklearn.metrics._plot.confusion_matrix.ConfusionMatrixDisplay at 0x1f36e9e8dd0>"
      ]
     },
     "execution_count": 144,
     "metadata": {},
     "output_type": "execute_result"
    },
    {
     "data": {
      "image/png": "[encoded data removed]",
      "text/plain": [
       "<Figure size 640x480 with 2 Axes>"
      ]
     },
     "metadata": {},
     "output_type": "display_data"
    }
   ],
   "source": [
    "cm = confusion_matrix(y_test, y_pred)\n",
    "disp = ConfusionMatrixDisplay(cm)\n",
    "disp.plot()"
   ]
  },
  {
   "cell_type": "code",
   "execution_count": 145,
   "metadata": {},
   "outputs": [
    {
     "data": {
      "text/plain": [
       "array([[6640, 4439],\n",
       "       [2132, 1789]], dtype=int64)"
      ]
     },
     "execution_count": 145,
     "metadata": {},
     "output_type": "execute_result"
    }
   ],
   "source": [
    "cm"
   ]
  },
  {
   "cell_type": "markdown",
   "metadata": {},
   "source": [
    "Alta quantidade de falsos negativos (3840) indica que o modelo está com dificuldades para identificar corretamente a classe positiva. Isso pode ser um reflexo do desequilíbrio na distribuição das classes."
   ]
  },
  {
   "cell_type": "code",
   "execution_count": 146,
   "metadata": {},
   "outputs": [],
   "source": [
    "k_range = range(1, 26)\n",
    "acc_scores = []\n",
    "precision_scores = []\n",
    "recall_scores = []\n",
    "\n",
    "for k in k_range:\n",
    "    knn = KNeighborsClassifier(n_neighbors=k)\n",
    "    knn.fit(X_train, y_train)\n",
    "    y_pred = knn.predict(X_test)\n",
    "    acc_scores.append(accuracy_score(y_test, y_pred))\n",
    "    precision_scores.append(precision_score(y_test, y_pred))\n",
    "    recall_scores.append(recall_score(y_test, y_pred))\n"
   ]
  },
  {
   "cell_type": "code",
   "execution_count": 147,
   "metadata": {},
   "outputs": [
    {
     "data": {
      "image/png": "[encoded data removed]",
      "text/plain": [
       "<Figure size 1200x1000 with 3 Axes>"
      ]
     },
     "metadata": {},
     "output_type": "display_data"
    }
   ],
   "source": [
    "import matplotlib.pyplot as plt\n",
    "\n",
    "# Configurando o tamanho da figura\n",
    "plt.figure(figsize=(12, 10))\n",
    "\n",
    "# Subplot para Acurácia\n",
    "plt.subplot(3, 1, 1) # 3 linhas, 1 coluna, 1ª posição\n",
    "plt.plot(k_range, acc_scores, marker='o', linestyle='-', color='b')\n",
    "plt.title('Accuracy Score')\n",
    "plt.xlabel('Value of K for KNN')\n",
    "plt.ylabel('Accuracy')\n",
    "\n",
    "# Subplot para Precisão\n",
    "plt.subplot(3, 1, 2) # 3 linhas, 1 coluna, 2ª posição\n",
    "plt.plot(k_range, precision_scores, marker='o', linestyle='-', color='r')\n",
    "plt.title('Precision Score')\n",
    "plt.xlabel('Value of K for KNN')\n",
    "plt.ylabel('Precision')\n",
    "\n",
    "# Subplot para Recall\n",
    "plt.subplot(3, 1, 3) # 3 linhas, 1 coluna, 3ª posição\n",
    "plt.plot(k_range, recall_scores, marker='o', linestyle='-', color='g')\n",
    "plt.title('Recall Score')\n",
    "plt.xlabel('Value of K for KNN')\n",
    "plt.ylabel('Recall')\n",
    "\n",
    "# Ajustar o layout\n",
    "plt.tight_layout()\n",
    "\n",
    "# Mostrar o gráfico\n",
    "plt.show()\n"
   ]
  },
  {
   "cell_type": "code",
   "execution_count": 148,
   "metadata": {},
   "outputs": [
    {
     "name": "stdout",
     "output_type": "stream",
     "text": [
      "ACC:\n",
      "Best Score: 0.74 \n",
      "Index: 22 \n",
      "\n",
      "Precisio:\n",
      "Best Score: 0.39 \n",
      "Index: 22 \n",
      "\n",
      "Recall:\n",
      "Best Score: 0.28 \n",
      "Index: 1 \n"
     ]
    }
   ],
   "source": [
    "print(\"ACC:\")\n",
    "print(\"Best Score: %.2f \" %(max(acc_scores)))\n",
    "print(\"Index: %d \" %(int(acc_scores.index(max(acc_scores)))+1))\n",
    "\n",
    "print(\"\")\n",
    "print(\"Precisio:\")\n",
    "print(\"Best Score: %.2f \" %(max(precision_scores)))\n",
    "print(\"Index: %d \" %(int(precision_scores.index(max(precision_scores)))+1))\n",
    "\n",
    "print(\"\")\n",
    "print(\"Recall:\")\n",
    "print(\"Best Score: %.2f \" %(max(recall_scores)))\n",
    "print(\"Index: %d \" %(int(recall_scores.index(max(recall_scores)))+1))"
   ]
  }
 ],
 "metadata": {
  "kernelspec": {
   "display_name": "venv",
   "language": "python",
   "name": "python3"
  },
  "language_info": {
   "codemirror_mode": {
    "name": "ipython",
    "version": 3
   },
   "file_extension": ".py",
   "mimetype": "text/x-python",
   "name": "python",
   "nbconvert_exporter": "python",
   "pygments_lexer": "ipython3",
   "version": "3.11.3"
  }
 },
 "nbformat": 4,
 "nbformat_minor": 2
}
